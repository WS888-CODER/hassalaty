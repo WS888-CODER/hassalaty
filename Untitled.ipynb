{
 "cells": [
  {
   "cell_type": "code",
   "execution_count": 9,
   "id": "3dfab921-a8ee-4b16-8d6d-1a85bbf8a34e",
   "metadata": {},
   "outputs": [
    {
     "name": "stdout",
     "output_type": "stream",
     "text": [
      "🎯 Accuracy: 0.88\n",
      "\n",
      "📊 Classification Report:\n",
      "               precision    recall  f1-score   support\n",
      "\n",
      "    balanced       0.91      0.88      0.89       152\n",
      "    investor       0.86      0.86      0.86       156\n",
      "       saver       0.83      0.89      0.86       130\n",
      "     spender       0.91      0.90      0.90       162\n",
      "\n",
      "    accuracy                           0.88       600\n",
      "   macro avg       0.88      0.88      0.88       600\n",
      "weighted avg       0.88      0.88      0.88       600\n",
      "\n",
      "✅ تم حفظ الموديل والمشفرات بنجاح!\n"
     ]
    }
   ],
   "source": [
    "import pandas as pd\n",
    "from sklearn.ensemble import RandomForestClassifier\n",
    "from sklearn.model_selection import train_test_split\n",
    "from sklearn.preprocessing import LabelEncoder\n",
    "from sklearn.metrics import classification_report, accuracy_score\n",
    "import joblib\n",
    "\n",
    "# 1. تحميل البيانات\n",
    "df = pd.read_csv(\"child_behavior_dataset_balanced_noise.csv\")\n",
    "\n",
    "# 2. ترميز top_spending_category (categorical feature)\n",
    "top_category_encoder = LabelEncoder()\n",
    "df[\"top_spending_category\"] = top_category_encoder.fit_transform(df[\"top_spending_category\"])\n",
    "\n",
    "# 3. ترميز label (القيم المستهدفة)\n",
    "label_encoder = LabelEncoder()\n",
    "df[\"label_encoded\"] = label_encoder.fit_transform(df[\"label\"])\n",
    "\n",
    "# 4. تقسيم البيانات: المدخلات X والمخرجات y\n",
    "X = df.drop([\"label\", \"label_encoded\"], axis=1)\n",
    "y = df[\"label_encoded\"]\n",
    "\n",
    "# 5. تقسيم التدريب والاختبار\n",
    "X_train, X_test, y_train, y_test = train_test_split(X, y, test_size=0.3, random_state=42)\n",
    "\n",
    "# 6. تدريب الموديل\n",
    "model = RandomForestClassifier(n_estimators=100, random_state=42)\n",
    "model.fit(X_train, y_train)\n",
    "\n",
    "# 7. التقييم\n",
    "y_pred = model.predict(X_test)\n",
    "print(\"🎯 Accuracy:\", accuracy_score(y_test, y_pred))\n",
    "print(\"\\n📊 Classification Report:\\n\", classification_report(y_test, y_pred, target_names=label_encoder.classes_))\n",
    "\n",
    "# 8. حفظ الموديل والمشفرات\n",
    "joblib.dump(model, \"child_behavior_model.pkl\")\n",
    "joblib.dump(label_encoder, \"label_encoder.pkl\")\n",
    "joblib.dump(top_category_encoder, \"top_category_encoder.pkl\")\n",
    "\n",
    "print(\"✅ تم حفظ الموديل والمشفرات بنجاح!\")\n"
   ]
  },
  {
   "cell_type": "code",
   "execution_count": null,
   "id": "34f82177-7b00-4528-8d27-45c7637dc66c",
   "metadata": {},
   "outputs": [],
   "source": []
  }
 ],
 "metadata": {
  "kernelspec": {
   "display_name": "Python [conda env:base] *",
   "language": "python",
   "name": "conda-base-py"
  },
  "language_info": {
   "codemirror_mode": {
    "name": "ipython",
    "version": 3
   },
   "file_extension": ".py",
   "mimetype": "text/x-python",
   "name": "python",
   "nbconvert_exporter": "python",
   "pygments_lexer": "ipython3",
   "version": "3.13.5"
  }
 },
 "nbformat": 4,
 "nbformat_minor": 5
}
